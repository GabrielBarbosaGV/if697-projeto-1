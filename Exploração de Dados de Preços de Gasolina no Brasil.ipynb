{
  "cells":[
    {
      "cell_type":"code",
      "source":[
        "import pandas as pd\n",
        "import numpy as np"
      ],
      "execution_count":3,
      "outputs":[
        
      ],
      "metadata":{
        
      }
    },
    {
      "cell_type":"code",
      "source":[
        "data = pd.read_csv('.\/2004-2019.tsv', sep = '\\t')"
      ],
      "execution_count":4,
      "outputs":[
        
      ],
      "metadata":{
        
      }
    },
    {
      "cell_type":"code",
      "source":[
        "data.columns"
      ],
      "execution_count":5,
      "outputs":[
        {
          "data":{
            "text\/plain":[
              "Index(['Unnamed: 0', 'DATA INICIAL', 'DATA FINAL', 'REGIÃO', 'ESTADO',\n",
              "       'PRODUTO', 'NÚMERO DE POSTOS PESQUISADOS', 'UNIDADE DE MEDIDA',\n",
              "       'PREÇO MÉDIO REVENDA', 'DESVIO PADRÃO REVENDA', 'PREÇO MÍNIMO REVENDA',\n",
              "       'PREÇO MÁXIMO REVENDA', 'MARGEM MÉDIA REVENDA',\n",
              "       'COEF DE VARIAÇÃO REVENDA', 'PREÇO MÉDIO DISTRIBUIÇÃO',\n",
              "       'DESVIO PADRÃO DISTRIBUIÇÃO', 'PREÇO MÍNIMO DISTRIBUIÇÃO',\n",
              "       'PREÇO MÁXIMO DISTRIBUIÇÃO', 'COEF DE VARIAÇÃO DISTRIBUIÇÃO', 'MÊS',\n",
              "       'ANO'],\n",
              "      dtype='object')"
            ]
          },
          "metadata":{
            
          },
          "output_type":"display_data"
        }
      ],
      "metadata":{
        
      }
    },
    {
      "cell_type":"markdown",
      "source":[
        "### Renomeando colunas\n",
        "Como os nomes das colunas do dataset não estão na forma mais conveniente, isto é, sem espaços ou acentos, vamos, primeiramente, ajustá-los"
      ],
      "metadata":{
        
      }
    },
    {
      "cell_type":"code",
      "source":[
        "def get_string_adjuster():\n",
        "    untranslated_string = ' ÁÃÇÍÉÊÚ'\n",
        "    translated_string = '_AACIEEU'\n",
        "    \n",
        "    def adjust_string(to_adjust):\n",
        "        translation_map = to_adjust.maketrans(untranslated_string, translated_string)\n",
        "        return to_adjust.translate(translation_map)\n",
        "    \n",
        "    return adjust_string"
      ],
      "execution_count":6,
      "outputs":[
        
      ],
      "metadata":{
        
      }
    },
    {
      "cell_type":"code",
      "source":[
        "adjust_string = get_string_adjuster()\n",
        "\n",
        "column_names_to_adjusted_names = {\n",
        "    original_name : adjust_string(original_name)\n",
        "    for original_name\n",
        "    in data.columns\n",
        "}\n",
        "\n",
        "data = data.rename(columns = column_names_to_adjusted_names)\n",
        "data.columns"
      ],
      "execution_count":7,
      "outputs":[
        {
          "data":{
            "text\/plain":[
              "Index(['Unnamed:_0', 'DATA_INICIAL', 'DATA_FINAL', 'REGIAO', 'ESTADO',\n",
              "       'PRODUTO', 'NUMERO_DE_POSTOS_PESQUISADOS', 'UNIDADE_DE_MEDIDA',\n",
              "       'PRECO_MEDIO_REVENDA', 'DESVIO_PADRAO_REVENDA', 'PRECO_MINIMO_REVENDA',\n",
              "       'PRECO_MAXIMO_REVENDA', 'MARGEM_MEDIA_REVENDA',\n",
              "       'COEF_DE_VARIACAO_REVENDA', 'PRECO_MEDIO_DISTRIBUICAO',\n",
              "       'DESVIO_PADRAO_DISTRIBUICAO', 'PRECO_MINIMO_DISTRIBUICAO',\n",
              "       'PRECO_MAXIMO_DISTRIBUICAO', 'COEF_DE_VARIACAO_DISTRIBUICAO', 'MES',\n",
              "       'ANO'],\n",
              "      dtype='object')"
            ]
          },
          "metadata":{
            
          },
          "output_type":"display_data"
        }
      ],
      "metadata":{
        
      }
    },
    {
      "cell_type":"markdown",
      "source":[
        "### Tipo de cada coluna\n",
        "Objetivamos definir o tipo de cada coluna e, caso necessário, ajustá-lo para um condizente com o mostrado"
      ],
      "metadata":{
        
      }
    },
    {
      "cell_type":"code",
      "source":[
        "data.dtypes"
      ],
      "execution_count":8,
      "outputs":[
        {
          "data":{
            "text\/plain":[
              "Unnamed:_0                         int64\n",
              "DATA_INICIAL                      object\n",
              "DATA_FINAL                        object\n",
              "REGIAO                            object\n",
              "ESTADO                            object\n",
              "PRODUTO                           object\n",
              "NUMERO_DE_POSTOS_PESQUISADOS       int64\n",
              "UNIDADE_DE_MEDIDA                 object\n",
              "PRECO_MEDIO_REVENDA              float64\n",
              "DESVIO_PADRAO_REVENDA            float64\n",
              "PRECO_MINIMO_REVENDA             float64\n",
              "PRECO_MAXIMO_REVENDA             float64\n",
              "MARGEM_MEDIA_REVENDA              object\n",
              "COEF_DE_VARIACAO_REVENDA         float64\n",
              "PRECO_MEDIO_DISTRIBUICAO          object\n",
              "DESVIO_PADRAO_DISTRIBUICAO        object\n",
              "PRECO_MINIMO_DISTRIBUICAO         object\n",
              "PRECO_MAXIMO_DISTRIBUICAO         object\n",
              "COEF_DE_VARIACAO_DISTRIBUICAO     object\n",
              "MES                                int64\n",
              "ANO                                int64\n",
              "dtype: object"
            ]
          },
          "metadata":{
            
          },
          "output_type":"display_data"
        }
      ],
      "metadata":{
        
      }
    },
    {
      "cell_type":"code",
      "source":[
        "data.head()"
      ],
      "execution_count":9,
      "outputs":[
        {
          "data":{
            "text\/html":[
              "<div>\n",
              "<style scoped>\n",
              "    .dataframe tbody tr th:only-of-type {\n",
              "        vertical-align: middle;\n",
              "    }\n",
              "\n",
              "    .dataframe tbody tr th {\n",
              "        vertical-align: top;\n",
              "    }\n",
              "\n",
              "    .dataframe thead th {\n",
              "        text-align: right;\n",
              "    }\n",
              "<\/style>\n",
              "<table border=\"1\" class=\"dataframe\">\n",
              "  <thead>\n",
              "    <tr style=\"text-align: right;\">\n",
              "      <th><\/th>\n",
              "      <th>Unnamed:_0<\/th>\n",
              "      <th>DATA_INICIAL<\/th>\n",
              "      <th>DATA_FINAL<\/th>\n",
              "      <th>REGIAO<\/th>\n",
              "      <th>ESTADO<\/th>\n",
              "      <th>PRODUTO<\/th>\n",
              "      <th>NUMERO_DE_POSTOS_PESQUISADOS<\/th>\n",
              "      <th>UNIDADE_DE_MEDIDA<\/th>\n",
              "      <th>PRECO_MEDIO_REVENDA<\/th>\n",
              "      <th>DESVIO_PADRAO_REVENDA<\/th>\n",
              "      <th>...<\/th>\n",
              "      <th>PRECO_MAXIMO_REVENDA<\/th>\n",
              "      <th>MARGEM_MEDIA_REVENDA<\/th>\n",
              "      <th>COEF_DE_VARIACAO_REVENDA<\/th>\n",
              "      <th>PRECO_MEDIO_DISTRIBUICAO<\/th>\n",
              "      <th>DESVIO_PADRAO_DISTRIBUICAO<\/th>\n",
              "      <th>PRECO_MINIMO_DISTRIBUICAO<\/th>\n",
              "      <th>PRECO_MAXIMO_DISTRIBUICAO<\/th>\n",
              "      <th>COEF_DE_VARIACAO_DISTRIBUICAO<\/th>\n",
              "      <th>MES<\/th>\n",
              "      <th>ANO<\/th>\n",
              "    <\/tr>\n",
              "  <\/thead>\n",
              "  <tbody>\n",
              "    <tr>\n",
              "      <th>0<\/th>\n",
              "      <td>0<\/td>\n",
              "      <td>2004-05-09<\/td>\n",
              "      <td>2004-05-15<\/td>\n",
              "      <td>CENTRO OESTE<\/td>\n",
              "      <td>DISTRITO FEDERAL<\/td>\n",
              "      <td>ETANOL HIDRATADO<\/td>\n",
              "      <td>127<\/td>\n",
              "      <td>R$\/l<\/td>\n",
              "      <td>1.288<\/td>\n",
              "      <td>0.016<\/td>\n",
              "      <td>...<\/td>\n",
              "      <td>1.350<\/td>\n",
              "      <td>0.463<\/td>\n",
              "      <td>0.012<\/td>\n",
              "      <td>0.825<\/td>\n",
              "      <td>0.11<\/td>\n",
              "      <td>0.4201<\/td>\n",
              "      <td>0.9666<\/td>\n",
              "      <td>0.133<\/td>\n",
              "      <td>5<\/td>\n",
              "      <td>2004<\/td>\n",
              "    <\/tr>\n",
              "    <tr>\n",
              "      <th>1<\/th>\n",
              "      <td>1<\/td>\n",
              "      <td>2004-05-09<\/td>\n",
              "      <td>2004-05-15<\/td>\n",
              "      <td>CENTRO OESTE<\/td>\n",
              "      <td>GOIAS<\/td>\n",
              "      <td>ETANOL HIDRATADO<\/td>\n",
              "      <td>387<\/td>\n",
              "      <td>R$\/l<\/td>\n",
              "      <td>1.162<\/td>\n",
              "      <td>0.114<\/td>\n",
              "      <td>...<\/td>\n",
              "      <td>1.449<\/td>\n",
              "      <td>0.399<\/td>\n",
              "      <td>0.098<\/td>\n",
              "      <td>0.763<\/td>\n",
              "      <td>0.088<\/td>\n",
              "      <td>0.5013<\/td>\n",
              "      <td>1.05<\/td>\n",
              "      <td>0.115<\/td>\n",
              "      <td>5<\/td>\n",
              "      <td>2004<\/td>\n",
              "    <\/tr>\n",
              "    <tr>\n",
              "      <th>2<\/th>\n",
              "      <td>2<\/td>\n",
              "      <td>2004-05-09<\/td>\n",
              "      <td>2004-05-15<\/td>\n",
              "      <td>CENTRO OESTE<\/td>\n",
              "      <td>MATO GROSSO<\/td>\n",
              "      <td>ETANOL HIDRATADO<\/td>\n",
              "      <td>192<\/td>\n",
              "      <td>R$\/l<\/td>\n",
              "      <td>1.389<\/td>\n",
              "      <td>0.097<\/td>\n",
              "      <td>...<\/td>\n",
              "      <td>1.760<\/td>\n",
              "      <td>0.419<\/td>\n",
              "      <td>0.070<\/td>\n",
              "      <td>0.97<\/td>\n",
              "      <td>0.095<\/td>\n",
              "      <td>0.5614<\/td>\n",
              "      <td>1.161<\/td>\n",
              "      <td>0.098<\/td>\n",
              "      <td>5<\/td>\n",
              "      <td>2004<\/td>\n",
              "    <\/tr>\n",
              "    <tr>\n",
              "      <th>3<\/th>\n",
              "      <td>3<\/td>\n",
              "      <td>2004-05-09<\/td>\n",
              "      <td>2004-05-15<\/td>\n",
              "      <td>CENTRO OESTE<\/td>\n",
              "      <td>MATO GROSSO DO SUL<\/td>\n",
              "      <td>ETANOL HIDRATADO<\/td>\n",
              "      <td>162<\/td>\n",
              "      <td>R$\/l<\/td>\n",
              "      <td>1.262<\/td>\n",
              "      <td>0.070<\/td>\n",
              "      <td>...<\/td>\n",
              "      <td>1.509<\/td>\n",
              "      <td>0.432<\/td>\n",
              "      <td>0.055<\/td>\n",
              "      <td>0.83<\/td>\n",
              "      <td>0.119<\/td>\n",
              "      <td>0.5991<\/td>\n",
              "      <td>1.22242<\/td>\n",
              "      <td>0.143<\/td>\n",
              "      <td>5<\/td>\n",
              "      <td>2004<\/td>\n",
              "    <\/tr>\n",
              "    <tr>\n",
              "      <th>4<\/th>\n",
              "      <td>4<\/td>\n",
              "      <td>2004-05-09<\/td>\n",
              "      <td>2004-05-15<\/td>\n",
              "      <td>NORDESTE<\/td>\n",
              "      <td>ALAGOAS<\/td>\n",
              "      <td>ETANOL HIDRATADO<\/td>\n",
              "      <td>103<\/td>\n",
              "      <td>R$\/l<\/td>\n",
              "      <td>1.181<\/td>\n",
              "      <td>0.078<\/td>\n",
              "      <td>...<\/td>\n",
              "      <td>1.400<\/td>\n",
              "      <td>0.24<\/td>\n",
              "      <td>0.066<\/td>\n",
              "      <td>0.941<\/td>\n",
              "      <td>0.077<\/td>\n",
              "      <td>0.7441<\/td>\n",
              "      <td>1.0317<\/td>\n",
              "      <td>0.082<\/td>\n",
              "      <td>5<\/td>\n",
              "      <td>2004<\/td>\n",
              "    <\/tr>\n",
              "  <\/tbody>\n",
              "<\/table>\n",
              "<p>5 rows × 21 columns<\/p>\n",
              "<\/div>"
            ]
          },
          "metadata":{
            
          },
          "output_type":"display_data"
        }
      ],
      "metadata":{
        
      }
    },
    {
      "cell_type":"markdown",
      "source":[
        "Vamos começar convertendo os tipos das datas para objetos datetime de fato utilizando pd.to_datetime"
      ],
      "metadata":{
        
      }
    },
    {
      "cell_type":"code",
      "source":[
        "data['DATA_INICIAL'] = pd.to_datetime(data['DATA_INICIAL'])\n",
        "data['DATA_FINAL'] = pd.to_datetime(data['DATA_FINAL'])\n",
        "data[['DATA_INICIAL', 'DATA_FINAL']].dtypes"
      ],
      "execution_count":10,
      "outputs":[
        {
          "data":{
            "text\/plain":[
              "DATA_INICIAL    datetime64[ns]\n",
              "DATA_FINAL      datetime64[ns]\n",
              "dtype: object"
            ]
          },
          "metadata":{
            
          },
          "output_type":"display_data"
        }
      ],
      "metadata":{
        
      }
    },
    {
      "cell_type":"markdown",
      "source":[
        "Consideramos que região e estado devem ser categóricos"
      ],
      "metadata":{
        
      }
    },
    {
      "cell_type":"code",
      "source":[
        "data['REGIAO'] = data['REGIAO'].astype('category')\n",
        "data['ESTADO'] = data['ESTADO'].astype('category')\n",
        "data[['REGIAO', 'ESTADO']].dtypes"
      ],
      "execution_count":11,
      "outputs":[
        {
          "data":{
            "text\/plain":[
              "REGIAO    category\n",
              "ESTADO    category\n",
              "dtype: object"
            ]
          },
          "metadata":{
            
          },
          "output_type":"display_data"
        }
      ],
      "metadata":{
        
      }
    },
    {
      "cell_type":"code",
      "source":[
        "data['PRODUTO'].unique()"
      ],
      "execution_count":12,
      "outputs":[
        {
          "data":{
            "text\/plain":[
              "array(['ETANOL HIDRATADO', 'GASOLINA COMUM', 'GLP', 'GNV', 'ÓLEO DIESEL',\n",
              "       'ÓLEO DIESEL S10'], dtype=object)"
            ]
          },
          "metadata":{
            
          },
          "output_type":"display_data"
        }
      ],
      "metadata":{
        
      }
    },
    {
      "cell_type":"markdown",
      "source":[
        "Produto também deve ser um dado categórico"
      ],
      "metadata":{
        
      }
    },
    {
      "cell_type":"code",
      "source":[
        "data['PRODUTO'] = data['PRODUTO'].astype('category')"
      ],
      "execution_count":13,
      "outputs":[
        
      ],
      "metadata":{
        
      }
    },
    {
      "cell_type":"code",
      "source":[
        "data['UNIDADE_DE_MEDIDA'].unique()"
      ],
      "execution_count":14,
      "outputs":[
        {
          "data":{
            "text\/plain":[
              "array(['R$\/l', 'R$\/13Kg', 'R$\/m3'], dtype=object)"
            ]
          },
          "metadata":{
            
          },
          "output_type":"display_data"
        }
      ],
      "metadata":{
        
      }
    },
    {
      "cell_type":"markdown",
      "source":[
        "Há três unidades de medida diferentes para preços pesquisados. Poderíamos descobrir a proporção de litros para cada, de forma a ter o valor do litro para cada linha. Porém, os valores de desvio padrão e coeficiente de variância já estão calculados nas medidas originais, nos impossibilitando de obtê-los para as possíveis novas medidas. Sendo assim, vamos considerar três datasets - um para cada unidade de medida."
      ],
      "metadata":{
        
      }
    },
    {
      "cell_type":"code",
      "source":[
        "print({\n",
        "    unit : f\"{100 * data[data['UNIDADE_DE_MEDIDA'] == unit]['UNIDADE_DE_MEDIDA'].count() \/ data['UNIDADE_DE_MEDIDA'].count()}%\"\n",
        "    for unit\n",
        "    in data['UNIDADE_DE_MEDIDA'].unique()\n",
        "})"
      ],
      "execution_count":15,
      "outputs":[
        {
          "name":"stdout",
          "text":[
            "{'R$\/l': '67.96570027054099%', 'R$\/13Kg': '19.832807541447067%', 'R$\/m3': '12.201492188011946%'}\n"
          ],
          "output_type":"stream"
        }
      ],
      "metadata":{
        
      }
    },
    {
      "cell_type":"markdown",
      "source":[
        "Como observado, a unidade de medida menos recorrente constitui mais de 10% do dataset, de forma que nenhuma delas é desprezível. Dessa forma, realizaremos análises para cada das unidades de medidas disponíveis.\n",
        "___\n",
        "Antes de fazermos isso, vamos continuar convertendo valores para seus tipos apropriados."
      ],
      "metadata":{
        
      }
    },
    {
      "cell_type":"code",
      "source":[
        "data['MARGEM_MEDIA_REVENDA'].describe()"
      ],
      "execution_count":16,
      "outputs":[
        {
          "data":{
            "text\/plain":[
              "count     106823\n",
              "unique     11930\n",
              "top            -\n",
              "freq        3431\n",
              "Name: MARGEM_MEDIA_REVENDA, dtype: object"
            ]
          },
          "metadata":{
            
          },
          "output_type":"display_data"
        }
      ],
      "metadata":{
        
      }
    },
    {
      "cell_type":"markdown",
      "source":[
        "Há valores em MARGEM_MEDIA_REVENDA que não são NaN, mas são hífens. Vamos converter esses valores para NaNs e atribuir o tipo float64 à coluna."
      ],
      "metadata":{
        
      }
    },
    {
      "cell_type":"code",
      "source":[
        "data['MARGEM_MEDIA_REVENDA'] = data['MARGEM_MEDIA_REVENDA'].replace({ '-': np.nan })\n",
        "data['MARGEM_MEDIA_REVENDA'] = data['MARGEM_MEDIA_REVENDA'].astype('float64')\n",
        "data['MARGEM_MEDIA_REVENDA'].describe()"
      ],
      "execution_count":17,
      "outputs":[
        {
          "data":{
            "text\/plain":[
              "count    103392.000000\n",
              "mean          2.225151\n",
              "std           4.375085\n",
              "min           0.001000\n",
              "25%           0.282000\n",
              "50%           0.383000\n",
              "75%           0.560000\n",
              "max          36.847000\n",
              "Name: MARGEM_MEDIA_REVENDA, dtype: float64"
            ]
          },
          "metadata":{
            
          },
          "output_type":"display_data"
        }
      ],
      "metadata":{
        
      }
    },
    {
      "cell_type":"markdown",
      "source":[
        "Vamos corrigir o mesmo problema para outras colunas que consideramos deverem ser numéricas."
      ],
      "metadata":{
        
      }
    },
    {
      "cell_type":"code",
      "source":[
        "colnames = [\n",
        "    'PRECO_MEDIO_DISTRIBUICAO',\n",
        "    'DESVIO_PADRAO_DISTRIBUICAO',\n",
        "    'PRECO_MINIMO_DISTRIBUICAO',\n",
        "    'PRECO_MAXIMO_DISTRIBUICAO',\n",
        "    'COEF_DE_VARIACAO_DISTRIBUICAO'\n",
        "]\n",
        "\n",
        "for colname in colnames:\n",
        "    data[colname].replace({ '-': np.nan }, inplace = True)\n",
        "\n",
        "data[colnames].describe()"
      ],
      "execution_count":18,
      "outputs":[
        {
          "data":{
            "text\/html":[
              "<div>\n",
              "<style scoped>\n",
              "    .dataframe tbody tr th:only-of-type {\n",
              "        vertical-align: middle;\n",
              "    }\n",
              "\n",
              "    .dataframe tbody tr th {\n",
              "        vertical-align: top;\n",
              "    }\n",
              "\n",
              "    .dataframe thead th {\n",
              "        text-align: right;\n",
              "    }\n",
              "<\/style>\n",
              "<table border=\"1\" class=\"dataframe\">\n",
              "  <thead>\n",
              "    <tr style=\"text-align: right;\">\n",
              "      <th><\/th>\n",
              "      <th>PRECO_MEDIO_DISTRIBUICAO<\/th>\n",
              "      <th>DESVIO_PADRAO_DISTRIBUICAO<\/th>\n",
              "      <th>PRECO_MINIMO_DISTRIBUICAO<\/th>\n",
              "      <th>PRECO_MAXIMO_DISTRIBUICAO<\/th>\n",
              "      <th>COEF_DE_VARIACAO_DISTRIBUICAO<\/th>\n",
              "    <\/tr>\n",
              "  <\/thead>\n",
              "  <tbody>\n",
              "    <tr>\n",
              "      <th>count<\/th>\n",
              "      <td>103423<\/td>\n",
              "      <td>103423<\/td>\n",
              "      <td>103423<\/td>\n",
              "      <td>103423<\/td>\n",
              "      <td>103423<\/td>\n",
              "    <\/tr>\n",
              "    <tr>\n",
              "      <th>unique<\/th>\n",
              "      <td>15996<\/td>\n",
              "      <td>5857<\/td>\n",
              "      <td>21619<\/td>\n",
              "      <td>22575<\/td>\n",
              "      <td>396<\/td>\n",
              "    <\/tr>\n",
              "    <tr>\n",
              "      <th>top<\/th>\n",
              "      <td>1.283<\/td>\n",
              "      <td>0<\/td>\n",
              "      <td>24<\/td>\n",
              "      <td>32<\/td>\n",
              "      <td>0<\/td>\n",
              "    <\/tr>\n",
              "    <tr>\n",
              "      <th>freq<\/th>\n",
              "      <td>96<\/td>\n",
              "      <td>3235<\/td>\n",
              "      <td>832<\/td>\n",
              "      <td>844<\/td>\n",
              "      <td>3292<\/td>\n",
              "    <\/tr>\n",
              "  <\/tbody>\n",
              "<\/table>\n",
              "<\/div>"
            ]
          },
          "metadata":{
            
          },
          "output_type":"display_data"
        }
      ],
      "metadata":{
        
      }
    },
    {
      "cell_type":"markdown",
      "source":[
        "Agora podemos substituir os tipos dessas colunas por float64"
      ],
      "metadata":{
        
      }
    },
    {
      "cell_type":"code",
      "source":[
        "for colname in colnames:\n",
        "    data[colname] = data[colname].astype('float64')"
      ],
      "execution_count":19,
      "outputs":[
        
      ],
      "metadata":{
        
      }
    },
    {
      "cell_type":"markdown",
      "source":[
        "Vamos analisar a quantidade de valores NaN"
      ],
      "metadata":{
        
      }
    },
    {
      "cell_type":"code",
      "source":[
        "data.isna().sum()"
      ],
      "execution_count":20,
      "outputs":[
        {
          "data":{
            "text\/plain":[
              "Unnamed:_0                          0\n",
              "DATA_INICIAL                        0\n",
              "DATA_FINAL                          0\n",
              "REGIAO                              0\n",
              "ESTADO                              0\n",
              "PRODUTO                             0\n",
              "NUMERO_DE_POSTOS_PESQUISADOS        0\n",
              "UNIDADE_DE_MEDIDA                   0\n",
              "PRECO_MEDIO_REVENDA                 0\n",
              "DESVIO_PADRAO_REVENDA               0\n",
              "PRECO_MINIMO_REVENDA                0\n",
              "PRECO_MAXIMO_REVENDA                0\n",
              "MARGEM_MEDIA_REVENDA             3431\n",
              "COEF_DE_VARIACAO_REVENDA            0\n",
              "PRECO_MEDIO_DISTRIBUICAO         3400\n",
              "DESVIO_PADRAO_DISTRIBUICAO       3400\n",
              "PRECO_MINIMO_DISTRIBUICAO        3400\n",
              "PRECO_MAXIMO_DISTRIBUICAO        3400\n",
              "COEF_DE_VARIACAO_DISTRIBUICAO    3400\n",
              "MES                                 0\n",
              "ANO                                 0\n",
              "dtype: int64"
            ]
          },
          "metadata":{
            
          },
          "output_type":"display_data"
        }
      ],
      "metadata":{
        
      }
    },
    {
      "cell_type":"markdown",
      "source":[
        "Vamos descobrir quantas linhas têm pelo menos um valor de coluna NaN"
      ],
      "metadata":{
        
      }
    },
    {
      "cell_type":"code",
      "source":[
        "n_cols_na = data[data.isna().any(axis = 1)].count().max()\n",
        "n_cols_na"
      ],
      "execution_count":21,
      "outputs":[
        {
          "data":{
            "text\/plain":[
              "3431"
            ]
          },
          "metadata":{
            
          },
          "output_type":"display_data"
        }
      ],
      "metadata":{
        
      }
    },
    {
      "cell_type":"code",
      "source":[
        "100 * n_cols_na \/ data.count().max()"
      ],
      "execution_count":22,
      "outputs":[
        {
          "data":{
            "text\/plain":[
              "3.211855124832667"
            ]
          },
          "metadata":{
            
          },
          "output_type":"display_data"
        }
      ],
      "metadata":{
        
      }
    },
    {
      "cell_type":"markdown",
      "source":[
        "Somente pouco mais de 3% das linhas do dataset têm valores NaN. Vamos verificar as porcentagens para os subdatasets, de acordo com a unidade de medição."
      ],
      "metadata":{
        
      }
    },
    {
      "cell_type":"code",
      "source":[
        "data_per_liter = data[data['UNIDADE_DE_MEDIDA'] == 'R$\/l']\n",
        "data_per_13kg = data[data['UNIDADE_DE_MEDIDA'] == 'R$\/13Kg']\n",
        "data_per_cmeter = data[data['UNIDADE_DE_MEDIDA'] == 'R$\/m3']"
      ],
      "execution_count":23,
      "outputs":[
        
      ],
      "metadata":{
        
      }
    },
    {
      "cell_type":"markdown",
      "source":[
        "Por litro:"
      ],
      "metadata":{
        
      }
    },
    {
      "cell_type":"code",
      "source":[
        "n_cols_na_per_liter = data_per_liter[data_per_liter.isna().any(axis = 1)].count().max()\n",
        "n_cols_na_per_liter"
      ],
      "execution_count":24,
      "outputs":[
        {
          "data":{
            "text\/plain":[
              "532"
            ]
          },
          "metadata":{
            
          },
          "output_type":"display_data"
        }
      ],
      "metadata":{
        
      }
    },
    {
      "cell_type":"markdown",
      "source":[
        "Porcentagem:"
      ],
      "metadata":{
        
      }
    },
    {
      "cell_type":"code",
      "source":[
        "100 * n_cols_na_per_liter \/ data_per_liter.count().max()"
      ],
      "execution_count":25,
      "outputs":[
        {
          "data":{
            "text\/plain":[
              "0.7327520901340165"
            ]
          },
          "metadata":{
            
          },
          "output_type":"display_data"
        }
      ],
      "metadata":{
        
      }
    },
    {
      "cell_type":"markdown",
      "source":[
        "Por 13Kg:"
      ],
      "metadata":{
        
      }
    },
    {
      "cell_type":"code",
      "source":[
        "n_cols_na_per_13kg = data_per_13kg[data_per_13kg.isna().any(axis = 1)].count().max()\n",
        "n_cols_na_per_13kg"
      ],
      "execution_count":26,
      "outputs":[
        {
          "data":{
            "text\/plain":[
              "871"
            ]
          },
          "metadata":{
            
          },
          "output_type":"display_data"
        }
      ],
      "metadata":{
        
      }
    },
    {
      "cell_type":"markdown",
      "source":[
        "Porcentagem:"
      ],
      "metadata":{
        
      }
    },
    {
      "cell_type":"code",
      "source":[
        "100 * n_cols_na_per_13kg \/ data_per_13kg.count().max()"
      ],
      "execution_count":27,
      "outputs":[
        {
          "data":{
            "text\/plain":[
              "4.111205513074672"
            ]
          },
          "metadata":{
            
          },
          "output_type":"display_data"
        }
      ],
      "metadata":{
        
      }
    },
    {
      "cell_type":"markdown",
      "source":[
        "Por m³:"
      ],
      "metadata":{
        
      }
    },
    {
      "cell_type":"code",
      "source":[
        "n_cols_na_per_cmeter = data_per_cmeter[data_per_cmeter.isna().any(axis = 1)].count().max()\n",
        "n_cols_na_per_cmeter"
      ],
      "execution_count":28,
      "outputs":[
        {
          "data":{
            "text\/plain":[
              "2028"
            ]
          },
          "metadata":{
            
          },
          "output_type":"display_data"
        }
      ],
      "metadata":{
        
      }
    },
    {
      "cell_type":"markdown",
      "source":[
        "Porcentagem:"
      ],
      "metadata":{
        
      }
    },
    {
      "cell_type":"code",
      "source":[
        "100 * n_cols_na_per_cmeter \/ data_per_cmeter.count().max()"
      ],
      "execution_count":29,
      "outputs":[
        {
          "data":{
            "text\/plain":[
              "15.559306429338653"
            ]
          },
          "metadata":{
            
          },
          "output_type":"display_data"
        }
      ],
      "metadata":{
        
      }
    },
    {
      "cell_type":"markdown",
      "source":[
        "É possível observar a relevância das colunas com valores NaN no caso da unidade de medida de R$\/m³. Consideramos como muito pouco relevante a quantidade de colunas com valores NaN para as outras unidades de medida.\n",
        "Vamos procurar agora nos informar sobre os dados indisponíveis para o caso relevante. Para isso, vamos descrever a distribuição da quantidade de campos indisponíveis, nos casos onde há tais campos."
      ],
      "metadata":{
        
      }
    },
    {
      "cell_type":"code",
      "source":[
        "rows_with_nan = data_per_cmeter.isna().any(axis = 1)\n",
        "data_per_cmeter[rows_with_nan].isna().sum(axis = 1).describe()"
      ],
      "execution_count":30,
      "outputs":[
        {
          "data":{
            "text\/plain":[
              "count    2028.000000\n",
              "mean        5.928501\n",
              "std         0.593765\n",
              "min         1.000000\n",
              "25%         6.000000\n",
              "50%         6.000000\n",
              "75%         6.000000\n",
              "max         6.000000\n",
              "dtype: float64"
            ]
          },
          "metadata":{
            
          },
          "output_type":"display_data"
        }
      ],
      "metadata":{
        
      }
    },
    {
      "cell_type":"markdown",
      "source":[
        "Aparenta faltarem valores para 6 colunas na maioria dos casos. Em um caso como esse, imputar valores pode ser contraprodutivo, por gerar muitas instâncias com valores artificiais. Por isso, vamos remover linhas com valores faltantes."
      ],
      "metadata":{
        
      }
    },
    {
      "cell_type":"code",
      "source":[
        "rows_no_nan = data_per_cemeter.isna().none(axis = 1)\n",
        "data_per_cmeter_no_nan = data_per_cmeter[rows_no_nan]\n",
        "data_per_cmeter_no_nan.isna().sum()"
      ],
      "execution_count":null,
      "outputs":[
        
      ],
      "metadata":{
        
      }
    },
    {
      "cell_type":"markdown",
      "source":[
        "Comecemos com os dados na unidade de R$\/l."
      ],
      "metadata":{
        
      }
    }
  ],
  "metadata":{
    
  },
  "nbformat":4,
  "nbformat_minor":0
}